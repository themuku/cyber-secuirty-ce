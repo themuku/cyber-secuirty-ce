{
 "cells": [
  {
   "cell_type": "markdown",
   "id": "3c9970ea-b7be-4283-95e6-15e73f1da10f",
   "metadata": {},
   "source": [
    "## **ARP Sniffing: An Overview**\n",
    "**ARP Sniffing** is a technique where a machine listens to the ARP (Address Resolution Protocol) messages on a network to capture IP-to-MAC address mappings. It can help monitor devices on the network, identify potential attackers, or analyze network traffic.\n",
    "\n",
    "In an ARP sniffing attack, an attacker can intercept ARP packets and manipulate the network's ARP cache, redirecting the traffic between a victim and a gateway.\n",
    "\n",
    "⚠ **Disclaimer:** ARP sniffing should only be done in **authorized penetration testing environments** or for **educational purposes**. Unauthorized ARP sniffing is illegal.\n",
    "\n",
    "## **Performing ARP Sniffing with Built-in Tools and Python**\n",
    "\n",
    "### **1. Using Built-in Tools**\n",
    "\n",
    "#### **Method 1: Using `tcpdump` to Capture ARP Packets**"
   ]
  },
  {
   "cell_type": "markdown",
   "id": "7f40281b-9a04-43d8-978e-39fd29252256",
   "metadata": {},
   "source": [
    "`tcpdump` is a network packet analyzer that can capture ARP packets on the network.\n",
    "\n",
    "**Steps:**\n",
    "1. **Install tcpdump** (if not installed):"
   ]
  },
  {
   "cell_type": "code",
   "execution_count": null,
   "id": "c9433f51-a761-4fd7-ba51-9d8e8a1971fe",
   "metadata": {},
   "outputs": [],
   "source": [
    "sudo apt-get install tcpdump"
   ]
  },
  {
   "cell_type": "markdown",
   "id": "ce88a6e7-4fb9-496c-afcc-4127a26c3698",
   "metadata": {},
   "source": [
    "2. **Capture ARP traffic**:\n",
    "   To capture only ARP packets, use the following command:"
   ]
  },
  {
   "cell_type": "code",
   "execution_count": null,
   "id": "12bd1910-c2b1-446a-8816-09cee4b64ef6",
   "metadata": {},
   "outputs": [],
   "source": [
    "sudo tcpdump -i eth0 arp"
   ]
  },
  {
   "cell_type": "markdown",
   "id": "b796cbe6-07d3-4d2b-9051-d3b7c933d9fd",
   "metadata": {},
   "source": [
    "    Replace `eth0` with the network interface you wish to monitor. This command will display all ARP traffic, including requests and replies.\n",
    "\n",
    "3. **Save captured ARP traffic to a file**:\n",
    "   If you want to save the ARP packets for further analysis, you can write them to a `.pcap` file:"
   ]
  },
  {
   "cell_type": "code",
   "execution_count": null,
   "id": "366ccba6-6f08-47fd-a278-f2a4ab6e698c",
   "metadata": {},
   "outputs": [],
   "source": [
    "sudo tcpdump -i eth0 arp -w arp_traffic.pcap"
   ]
  },
  {
   "cell_type": "markdown",
   "id": "e8a524ec-5a70-451e-ac7b-4dc695348037",
   "metadata": {},
   "source": [
    "4. **Analyzing captured ARP packets**:\n",
    "   Open the `.pcap` file using **Wireshark** for detailed analysis:"
   ]
  },
  {
   "cell_type": "code",
   "execution_count": null,
   "id": "1658ebf6-fe7d-490a-9ba6-1c899deb246f",
   "metadata": {},
   "outputs": [],
   "source": [
    "wireshark arp_traffic.pcap"
   ]
  },
  {
   "cell_type": "markdown",
   "id": "c5d958c9-0990-4dad-82d2-cb87a477872b",
   "metadata": {},
   "source": [
    "#### **Method 2: Using `Wireshark` for ARP Sniffing**\n",
    "Wireshark is a GUI-based tool for detailed analysis of network traffic, including ARP packets.\n",
    "\n",
    "**Steps:**\n",
    "1. **Install Wireshark**:"
   ]
  },
  {
   "cell_type": "code",
   "execution_count": null,
   "id": "012326ec-af11-45c4-8e14-177ceab2e6ba",
   "metadata": {},
   "outputs": [],
   "source": [
    "sudo apt-get install wireshark"
   ]
  },
  {
   "cell_type": "markdown",
   "id": "5b056fef-ab6f-4d29-ade0-2e1d413ce3ab",
   "metadata": {},
   "source": [
    "2. **Start Wireshark**:\n",
    "   Launch Wireshark and select the network interface you want to monitor.\n",
    "\n",
    "3. **Apply ARP filter**:\n",
    "   In the display filter bar at the top of Wireshark, enter the following filter to show only ARP packets:\n",
    "   ```text\n",
    "   arp\n",
    "   ```\n",
    "\n",
    "4. **Analyze ARP Packets**:\n",
    "   - Look for ARP requests (`Who has`) and ARP replies (`Is at`).\n",
    "   - Identify any suspicious devices that may be trying to poison ARP tables.\n",
    "\n",
    "### **2. Using Python for ARP Sniffing with Scapy**\n",
    "\n",
    "`Scapy` is a Python-based tool that allows you to create, manipulate, and sniff packets on a network.\n",
    "\n",
    "#### **Install Scapy**:\n",
    "If you don't have `scapy` installed, you can install it using `pip`:"
   ]
  },
  {
   "cell_type": "code",
   "execution_count": 8,
   "id": "0ef66b72-12cb-47a0-b447-004f707300b3",
   "metadata": {},
   "outputs": [
    {
     "name": "stdout",
     "output_type": "stream",
     "text": [
      "Requirement already satisfied: scapy in /home/themuku/anaconda3/lib/python3.11/site-packages (2.6.1)\n",
      "Note: you may need to restart the kernel to use updated packages.\n"
     ]
    }
   ],
   "source": [
    "pip install scapy"
   ]
  },
  {
   "cell_type": "markdown",
   "id": "45e1c037-b054-4942-86ec-acd9583a2e3a",
   "metadata": {},
   "source": [
    "#### **Python Script for ARP Sniffing**:\n",
    "Here’s a Python script to sniff ARP packets on a network using Scapy. The script will capture and display ARP requests and replies."
   ]
  },
  {
   "cell_type": "code",
   "execution_count": null,
   "id": "1c906199-7f69-40b3-9209-b3a9f24fc117",
   "metadata": {},
   "outputs": [],
   "source": [
    "from scapy.all import sniff, ARP\n",
    "\n",
    "# Define a callback function to process captured packets\n",
    "def arp_sniff(packet):\n",
    "    if packet.haslayer(ARP):\n",
    "        if packet[ARP].op == 1:  # ARP Request\n",
    "            print(f\"ARP Request: {packet[ARP].psrc} is asking 'Who has' {packet[ARP].pdst}\")\n",
    "        elif packet[ARP].op == 2:  # ARP Reply\n",
    "            print(f\"ARP Reply: {packet[ARP].psrc} has address {packet[ARP].hwsrc}\")\n",
    "\n",
    "# Start sniffing ARP packets on the network\n",
    "print(\"Starting ARP sniffing...\")\n",
    "sniff(prn=arp_sniff, filter=\"arp\", store=0, iface=\"eth0\")"
   ]
  },
  {
   "cell_type": "markdown",
   "id": "f8c45a60-5be1-4fa0-a9b1-cf31385e57b2",
   "metadata": {},
   "source": [
    "**Explanation**:\n",
    "- `sniff`: Captures packets on the specified interface.\n",
    "- `arp_sniff`: Callback function that checks if the captured packet is an ARP request or reply and prints relevant information.\n",
    "- `filter=\"arp\"`: Captures only ARP packets.\n",
    "- `iface=\"eth0\"`: Specifies the network interface (replace with your actual interface).\n",
    "\n",
    "#### **Capture and Analyze ARP Packets**:\n",
    "1. **Run the script**:\n",
    "   When you run the script, it will listen for ARP traffic and print out ARP requests and replies."
   ]
  },
  {
   "cell_type": "code",
   "execution_count": null,
   "id": "a2e2a086-dc34-4c01-9927-bfa83fe52b6f",
   "metadata": {},
   "outputs": [],
   "source": [
    "python arp_sniff.py"
   ]
  },
  {
   "cell_type": "markdown",
   "id": "87b41027-7ec8-4fcb-93e0-035d5e32192c",
   "metadata": {},
   "source": [
    "2. **Stop sniffing**:\n",
    "   Press `Ctrl+C` to stop the sniffing process.\n",
    "\n",
    "### **3. ARP Sniffing Ethics and Network Restoration**\n",
    "- **ARP Poisoning and Spoofing**: ARP sniffing can be used for ARP poisoning attacks, which redirect traffic to malicious actors. Be sure to use this technique only in a **controlled, authorized environment**.\n",
    "  \n",
    "- **Restoring ARP Tables**: After sniffing or poisoning, you may want to restore the correct ARP mappings to avoid disruption in the network. This can be done with the following command on Linux:"
   ]
  },
  {
   "cell_type": "code",
   "execution_count": null,
   "id": "92f54e47-9fbb-4223-a091-26d2290d82fd",
   "metadata": {},
   "outputs": [],
   "source": [
    "sudo arp -d <target-ip>"
   ]
  },
  {
   "cell_type": "markdown",
   "id": "77d386fc-c0a7-4b78-b1e1-dbaa054aa75f",
   "metadata": {},
   "source": [
    "  Alternatively, you can use `scapy` to send correct ARP responses to restore the network.\n",
    "\n",
    "### **Conclusion**\n",
    "- **Method 1 (tcpdump)**: Quick and easy for capturing ARP packets.\n",
    "- **Method 2 (Wireshark)**: Provides an advanced GUI for analyzing ARP traffic.\n",
    "- **Method 3 (Python with Scapy)**: Customizable and automated ARP sniffing using Python scripting."
   ]
  }
 ],
 "metadata": {
  "kernelspec": {
   "display_name": "Python 3 (ipykernel)",
   "language": "python",
   "name": "python3"
  },
  "language_info": {
   "codemirror_mode": {
    "name": "ipython",
    "version": 3
   },
   "file_extension": ".py",
   "mimetype": "text/x-python",
   "name": "python",
   "nbconvert_exporter": "python",
   "pygments_lexer": "ipython3",
   "version": "3.11.11"
  }
 },
 "nbformat": 4,
 "nbformat_minor": 5
}
